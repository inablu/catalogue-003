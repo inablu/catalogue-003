{
 "cells": [
  {
   "cell_type": "raw",
   "metadata": {},
   "source": [
    "---\n",
    "title: \"Activity: Paintings catalogue in Jupyter Notebook\"\n",
    "jupyter: python3\n",
    "execute:\n",
    "  echo: false\n",
    "  output: asis\n",
    "---"
   ]
  },
  {
   "attachments": {},
   "cell_type": "markdown",
   "metadata": {},
   "source": [
    "https://w.wiki/6cAJ"
   ]
  },
  {
   "cell_type": "code",
   "execution_count": 1,
   "metadata": {},
   "outputs": [
    {
     "name": "stdout",
     "output_type": "stream",
     "text": [
      "{'item': {'type': 'uri', 'value': 'http://www.wikidata.org/entity/Q934482'}, 'image': {'type': 'uri', 'value': 'http://commons.wikimedia.org/wiki/Special:FilePath/Umberto%20Boccioni%2C%201911%2C%20The%20Street%20Enters%20the%20House%2C%20oil%20on%20canvas%2C%20100%20x%20100.6%20cm%2C%20Sprengel%20Museum.jpg'}, 'creator': {'type': 'uri', 'value': 'http://www.wikidata.org/entity/Q152797'}, 'inception': {'datatype': 'http://www.w3.org/2001/XMLSchema#dateTime', 'type': 'literal', 'value': '1911-01-01T00:00:00Z'}, 'itemLabel': {'xml:lang': 'en', 'type': 'literal', 'value': 'The Street Enters the House'}, 'creatorLabel': {'xml:lang': 'en', 'type': 'literal', 'value': 'Umberto Boccioni'}}\n",
      "{'item': {'type': 'uri', 'value': 'http://www.wikidata.org/entity/Q1871122'}, 'creator': {'type': 'uri', 'value': 'http://www.wikidata.org/entity/Q703331'}, 'inception': {'datatype': 'http://www.w3.org/2001/XMLSchema#dateTime', 'type': 'literal', 'value': '1927-01-01T00:00:00Z'}, 'itemLabel': {'type': 'literal', 'value': 'Q1871122'}, 'creatorLabel': {'xml:lang': 'en', 'type': 'literal', 'value': 'Christian Schad'}}\n",
      "{'item': {'type': 'uri', 'value': 'http://www.wikidata.org/entity/Q17143943'}, 'creator': {'type': 'uri', 'value': 'http://www.wikidata.org/entity/Q152788'}, 'itemLabel': {'xml:lang': 'en', 'type': 'literal', 'value': 'Stormy Sea'}, 'creatorLabel': {'xml:lang': 'en', 'type': 'literal', 'value': 'Emil Nolde'}}\n",
      "{'item': {'type': 'uri', 'value': 'http://www.wikidata.org/entity/Q18890767'}, 'image': {'type': 'uri', 'value': 'http://commons.wikimedia.org/wiki/Special:FilePath/Munch%20Edvard%20Weiblicher%20Halbakt%20Sprengel%20Museum%2001.JPG'}, 'creator': {'type': 'uri', 'value': 'http://www.wikidata.org/entity/Q41406'}, 'inception': {'datatype': 'http://www.w3.org/2001/XMLSchema#dateTime', 'type': 'literal', 'value': '1902-01-01T00:00:00Z'}, 'itemLabel': {'xml:lang': 'en', 'type': 'literal', 'value': 'Seated Nude'}, 'creatorLabel': {'xml:lang': 'en', 'type': 'literal', 'value': 'Edvard Munch'}}\n",
      "{'item': {'type': 'uri', 'value': 'http://www.wikidata.org/entity/Q18890869'}, 'image': {'type': 'uri', 'value': 'http://commons.wikimedia.org/wiki/Special:FilePath/Munch%20Edward%20Elgersburg%20Sprengel%20Museum%2001.JPG'}, 'creator': {'type': 'uri', 'value': 'http://www.wikidata.org/entity/Q41406'}, 'inception': {'datatype': 'http://www.w3.org/2001/XMLSchema#dateTime', 'type': 'literal', 'value': '1906-01-01T00:00:00Z'}, 'itemLabel': {'xml:lang': 'en', 'type': 'literal', 'value': 'Small Town Street in Snow'}, 'creatorLabel': {'xml:lang': 'en', 'type': 'literal', 'value': 'Edvard Munch'}}\n",
      "{'item': {'type': 'uri', 'value': 'http://www.wikidata.org/entity/Q20087550'}, 'creator': {'type': 'uri', 'value': 'http://www.wikidata.org/entity/Q168704'}, 'inception': {'datatype': 'http://www.w3.org/2001/XMLSchema#dateTime', 'type': 'literal', 'value': '1972-01-01T00:00:00Z'}, 'itemLabel': {'xml:lang': 'en', 'type': 'literal', 'value': 'Death of the Patriarch'}, 'creatorLabel': {'xml:lang': 'en', 'type': 'literal', 'value': 'Niki de Saint Phalle'}}\n",
      "{'item': {'type': 'uri', 'value': 'http://www.wikidata.org/entity/Q20087564'}, 'creator': {'type': 'uri', 'value': 'http://www.wikidata.org/entity/Q168704'}, 'inception': {'datatype': 'http://www.w3.org/2001/XMLSchema#dateTime', 'type': 'literal', 'value': '1954-01-01T00:00:00Z'}, 'itemLabel': {'xml:lang': 'en', 'type': 'literal', 'value': 'Family portrait'}, 'creatorLabel': {'xml:lang': 'en', 'type': 'literal', 'value': 'Niki de Saint Phalle'}}\n",
      "{'item': {'type': 'uri', 'value': 'http://www.wikidata.org/entity/Q27061960'}, 'image': {'type': 'uri', 'value': 'http://commons.wikimedia.org/wiki/Special:FilePath/M%C3%BCller%20Otto%20Drei%20Akte%20im%20Wald%20Sprengel%20Museum%2001.JPG'}, 'creator': {'type': 'uri', 'value': 'http://www.wikidata.org/entity/Q1307060'}, 'inception': {'datatype': 'http://www.w3.org/2001/XMLSchema#dateTime', 'type': 'literal', 'value': '1911-01-01T00:00:00Z'}, 'itemLabel': {'xml:lang': 'en', 'type': 'literal', 'value': 'Three Nudes in the Forest'}, 'creatorLabel': {'xml:lang': 'en', 'type': 'literal', 'value': 'Otto Müller'}}\n",
      "{'item': {'type': 'uri', 'value': 'http://www.wikidata.org/entity/Q27533742'}, 'creator': {'type': 'uri', 'value': 'http://www.wikidata.org/entity/Q161143'}, 'inception': {'datatype': 'http://www.w3.org/2001/XMLSchema#dateTime', 'type': 'literal', 'value': '1922-01-01T00:00:00Z'}, 'itemLabel': {'xml:lang': 'en', 'type': 'literal', 'value': 'Windmill'}, 'creatorLabel': {'xml:lang': 'en', 'type': 'literal', 'value': 'Karl Schmidt-Rottluff'}}\n",
      "{'item': {'type': 'uri', 'value': 'http://www.wikidata.org/entity/Q30005098'}, 'image': {'type': 'uri', 'value': 'http://commons.wikimedia.org/wiki/Special:FilePath/Marianne%20von%20Werefkin%20-%20Schwarze%20Frauen%20%281910%29.jpg'}, 'creator': {'type': 'uri', 'value': 'http://www.wikidata.org/entity/Q464016'}, 'inception': {'datatype': 'http://www.w3.org/2001/XMLSchema#dateTime', 'type': 'literal', 'value': '1910-01-01T00:00:00Z'}, 'itemLabel': {'xml:lang': 'en', 'type': 'literal', 'value': 'Women in Black'}, 'creatorLabel': {'xml:lang': 'en', 'type': 'literal', 'value': 'Marianne von Werefkin'}}\n",
      "{'item': {'type': 'uri', 'value': 'http://www.wikidata.org/entity/Q52086842'}, 'image': {'type': 'uri', 'value': 'http://commons.wikimedia.org/wiki/Special:FilePath/Marc%20Franz%20Pferde%20und%20Adler%20Sprengel%20Museum%2001.JPG'}, 'creator': {'type': 'uri', 'value': 'http://www.wikidata.org/entity/Q44054'}, 'inception': {'datatype': 'http://www.w3.org/2001/XMLSchema#dateTime', 'type': 'literal', 'value': '1912-01-01T00:00:00Z'}, 'itemLabel': {'xml:lang': 'en', 'type': 'literal', 'value': 'Horses and Eagle'}, 'creatorLabel': {'xml:lang': 'en', 'type': 'literal', 'value': 'Franz Marc'}}\n",
      "{'item': {'type': 'uri', 'value': 'http://www.wikidata.org/entity/Q52086847'}, 'image': {'type': 'uri', 'value': 'http://commons.wikimedia.org/wiki/Special:FilePath/Franz%20Marc%20014.jpg'}, 'creator': {'type': 'uri', 'value': 'http://www.wikidata.org/entity/Q44054'}, 'inception': {'datatype': 'http://www.w3.org/2001/XMLSchema#dateTime', 'type': 'literal', 'value': '1914-01-01T00:00:00Z'}, 'itemLabel': {'xml:lang': 'en', 'type': 'literal', 'value': 'Small Composition II'}, 'creatorLabel': {'xml:lang': 'en', 'type': 'literal', 'value': 'Franz Marc'}}\n",
      "{'item': {'type': 'uri', 'value': 'http://www.wikidata.org/entity/Q54366255'}, 'image': {'type': 'uri', 'value': 'http://commons.wikimedia.org/wiki/Special:FilePath/August%20Macke%20016.jpg'}, 'creator': {'type': 'uri', 'value': 'http://www.wikidata.org/entity/Q33981'}, 'inception': {'datatype': 'http://www.w3.org/2001/XMLSchema#dateTime', 'type': 'literal', 'value': '1912-01-01T00:00:00Z'}, 'itemLabel': {'xml:lang': 'en', 'type': 'literal', 'value': 'Large Bright Showcase'}, 'creatorLabel': {'xml:lang': 'en', 'type': 'literal', 'value': 'August Macke'}}\n",
      "{'item': {'type': 'uri', 'value': 'http://www.wikidata.org/entity/Q65159258'}, 'image': {'type': 'uri', 'value': 'http://commons.wikimedia.org/wiki/Special:FilePath/Otto%20Mueller%20-%20Liebespaar%20-%20ca1920.jpeg'}, 'creator': {'type': 'uri', 'value': 'http://www.wikidata.org/entity/Q317041'}, 'inception': {'datatype': 'http://www.w3.org/2001/XMLSchema#dateTime', 'type': 'literal', 'value': '1920-01-01T00:00:00Z'}, 'itemLabel': {'xml:lang': 'en', 'type': 'literal', 'value': 'Lovers'}, 'creatorLabel': {'xml:lang': 'en', 'type': 'literal', 'value': 'Otto Mueller'}}\n",
      "{'item': {'type': 'uri', 'value': 'http://www.wikidata.org/entity/Q105592817'}, 'image': {'type': 'uri', 'value': 'http://commons.wikimedia.org/wiki/Special:FilePath/Clown-Acrobat%20.jpg'}, 'creator': {'type': 'uri', 'value': 'http://www.wikidata.org/entity/Q164683'}, 'inception': {'datatype': 'http://www.w3.org/2001/XMLSchema#dateTime', 'type': 'literal', 'value': '1944-01-01T00:00:00Z'}, 'itemLabel': {'xml:lang': 'en', 'type': 'literal', 'value': 'Half Nude Clown'}, 'creatorLabel': {'xml:lang': 'en', 'type': 'literal', 'value': 'Max Beckmann'}}\n",
      "{'item': {'type': 'uri', 'value': 'http://www.wikidata.org/entity/Q111366491'}, 'image': {'type': 'uri', 'value': 'http://commons.wikimedia.org/wiki/Special:FilePath/Beckmann%20-%20Self-portrait%20-%201899%20-%20Sprengel%20Museum%20Hannover.jpg'}, 'creator': {'type': 'uri', 'value': 'http://www.wikidata.org/entity/Q164683'}, 'inception': {'datatype': 'http://www.w3.org/2001/XMLSchema#dateTime', 'type': 'literal', 'value': '1899-01-01T00:00:00Z'}, 'itemLabel': {'type': 'literal', 'value': 'Q111366491'}, 'creatorLabel': {'xml:lang': 'en', 'type': 'literal', 'value': 'Max Beckmann'}}\n",
      "{'item': {'type': 'uri', 'value': 'http://www.wikidata.org/entity/Q113492912'}, 'creator': {'type': 'uri', 'value': 'http://www.wikidata.org/entity/Q164712'}, 'inception': {'datatype': 'http://www.w3.org/2001/XMLSchema#dateTime', 'type': 'literal', 'value': '1936-01-01T00:00:00Z'}, 'itemLabel': {'xml:lang': 'en', 'type': 'literal', 'value': 'Procession in Lace'}, 'creatorLabel': {'xml:lang': 'en', 'type': 'literal', 'value': 'Paul Delvaux'}}\n"
     ]
    }
   ],
   "source": [
    "# pip install sparqlwrapper\n",
    "# https://rdflib.github.io/sparqlwrapper/\n",
    "\n",
    "import sys\n",
    "from SPARQLWrapper import SPARQLWrapper, JSON\n",
    "\n",
    "endpoint_url = \"https://query.wikidata.org/sparql\"\n",
    "\n",
    "query = \"\"\"#defaultView:ImageGrid\n",
    "SELECT ?item ?itemLabel ?image ?creator ?creatorLabel ?inception ?depicts ?depictsLabel ?copyright_status ?copyright_statusLabel ?material ?materialLabel WHERE {\n",
    "  ?item wdt:P31 wd:Q3305213;\n",
    "    wdt:P195 wd:Q510144.\n",
    "  SERVICE wikibase:label { bd:serviceParam wikibase:language \"[AUTO_LANGUAGE],en\". }\n",
    "  OPTIONAL { ?item wdt:P18 ?image. }\n",
    "  OPTIONAL { ?item wdt:P170 ?creator. }\n",
    "  OPTIONAL { ?item wdt:P571 ?inception. }\n",
    "  #OPTIONAL { ?item wdt:P180 ?depicts. }\n",
    "  #OPTIONAL { ?item wdt:P6216 ?copyright_status. }\n",
    "  #OPTIONAL { ?item wdt:P186 ?material. }\n",
    "}\n",
    "LIMIT 30\"\"\"\n",
    "\n",
    "\n",
    "def get_results(endpoint_url, query):\n",
    "    user_agent = \"WDQS-example Python/%s.%s\" % (sys.version_info[0], sys.version_info[1])\n",
    "    # TODO adjust user agent; see https://w.wiki/CX6\n",
    "    sparql = SPARQLWrapper(endpoint_url, agent=user_agent)\n",
    "    sparql.setQuery(query)\n",
    "    sparql.setReturnFormat(JSON)\n",
    "    return sparql.query().convert()\n",
    "\n",
    "\n",
    "results = get_results(endpoint_url, query)\n",
    "\n",
    "for result in results[\"results\"][\"bindings\"]:\n",
    "    print(result)\n"
   ]
  }
 ],
 "metadata": {
  "kernelspec": {
   "display_name": "Python 3",
   "language": "python",
   "name": "python3"
  },
  "language_info": {
   "codemirror_mode": {
    "name": "ipython",
    "version": 3
   },
   "file_extension": ".py",
   "mimetype": "text/x-python",
   "name": "python",
   "nbconvert_exporter": "python",
   "pygments_lexer": "ipython3",
   "version": "3.11.3"
  },
  "orig_nbformat": 4
 },
 "nbformat": 4,
 "nbformat_minor": 2
}
